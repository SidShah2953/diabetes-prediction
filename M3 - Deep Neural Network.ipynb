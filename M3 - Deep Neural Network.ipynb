{
  "cells": [
    {
      "cell_type": "markdown",
      "metadata": {
        "id": "ZBuVdxb5yBei"
      },
      "source": [
        "# Initial Set Up"
      ]
    },
    {
      "cell_type": "markdown",
      "metadata": {
        "id": "qqpHq_twzvWu"
      },
      "source": [
        "## Importing libraries"
      ]
    },
    {
      "cell_type": "code",
      "execution_count": 14,
      "metadata": {
        "id": "m0AZ3bMtxtD7"
      },
      "outputs": [],
      "source": [
        "import matplotlib.pyplot as plt\n",
        "\n",
        "from keras import Sequential\n",
        "from keras.layers import Dense, Dropout\n",
        "from keras.callbacks import EarlyStopping\n",
        "from keras.optimizers import Adam, SGD, Adadelta\n",
        " \n",
        "from sklearn.metrics import accuracy_score, precision_score, recall_score\n",
        "from sklearn.metrics import confusion_matrix, ConfusionMatrixDisplay, classification_report\n",
        "\n",
        "from modules.helpers import load_data\n",
        "\n",
        "import mlflow\n",
        "mlflow.set_tracking_uri(\"http://127.0.0.1:5000\")\n",
        "mlflow_experiment_id = 173184969061571471\n",
        "mlflow.autolog(disable=True)"
      ]
    },
    {
      "cell_type": "code",
      "execution_count": 15,
      "metadata": {},
      "outputs": [],
      "source": [
        "(train_x, train_y), (val_x, val_y), (test_x, test_y) = load_data('dnn')"
      ]
    },
    {
      "cell_type": "markdown",
      "metadata": {},
      "source": [
        "# Hyper Parameter Tuning"
      ]
    },
    {
      "cell_type": "code",
      "execution_count": 16,
      "metadata": {},
      "outputs": [],
      "source": [
        "run = False"
      ]
    },
    {
      "cell_type": "markdown",
      "metadata": {},
      "source": [
        "We apply early stopping to prevent overfitting."
      ]
    },
    {
      "cell_type": "code",
      "execution_count": 17,
      "metadata": {},
      "outputs": [],
      "source": [
        "early_stopping = EarlyStopping(monitor='val_loss',\n",
        "                               mode='min',\n",
        "                               verbose=1,\n",
        "                               patience=3)"
      ]
    },
    {
      "cell_type": "code",
      "execution_count": 18,
      "metadata": {},
      "outputs": [],
      "source": [
        "def create_model(activation='relu',\n",
        "                 dropout_rate=0.2, \n",
        "                 optimizer=Adam,\n",
        "                 learning_rate=0.01):\n",
        "    model = Sequential([\n",
        "        Dense(64, activation=activation, input_shape=(51,)),\n",
        "        Dropout(dropout_rate),  \n",
        "        Dense(64, activation=activation),  \n",
        "        Dropout(dropout_rate),  \n",
        "        Dense(32, activation=activation),  \n",
        "        Dropout(dropout_rate),\n",
        "        Dense(1, activation='sigmoid') \n",
        "    ])\n",
        "    opt = optimizer(learning_rate=learning_rate)\n",
        "    \n",
        "    model.compile(\n",
        "        optimizer=opt,  \n",
        "        loss='binary_crossentropy',  \n",
        "        metrics=['accuracy']  \n",
        "    )\n",
        "    \n",
        "    return model"
      ]
    },
    {
      "cell_type": "code",
      "execution_count": 19,
      "metadata": {},
      "outputs": [],
      "source": [
        "param_grid = {\n",
        "    'activation': ['relu', 'softplus', 'sigmoid', 'tanh'],\n",
        "    'dropout_rate': [0.1, 0.2, 0.3],\n",
        "    'optimizer': [Adam, SGD, Adadelta],  \n",
        "    'learning_rate': [0.005, 0.01]  \n",
        "}\n",
        "\n",
        "param_configs = [\n",
        "    {\n",
        "        'activation': activation,\n",
        "        'dropout_rate': dropout_rate,\n",
        "        'optimizer': optimizer,\n",
        "        'learning_rate': learning_rate,\n",
        "    }\n",
        "    for activation in param_grid['activation']\n",
        "    for dropout_rate in param_grid['dropout_rate']\n",
        "    for optimizer in param_grid['optimizer']\n",
        "    for learning_rate in param_grid['learning_rate']\n",
        "]"
      ]
    },
    {
      "cell_type": "code",
      "execution_count": 20,
      "metadata": {},
      "outputs": [
        {
          "name": "stdout",
          "output_type": "stream",
          "text": [
            "No new runs added\n"
          ]
        }
      ],
      "source": [
        "if run == True:\n",
        "    for i in range(len(param_configs)):   \n",
        "        param_config = param_configs[i]\n",
        "        with mlflow.start_run(experiment_id=mlflow_experiment_id):\n",
        "            for param, value in param_config.items():\n",
        "                mlflow.log_param(param, value)\n",
        "            \n",
        "            model = create_model(**param_config)\n",
        "\n",
        "            history = model.fit(train_x,\n",
        "                    train_y,\n",
        "                    epochs=15,\n",
        "                    batch_size=50,\n",
        "                    validation_data=(val_x, val_y))\n",
        "            \n",
        "            mlflow.log_metric(\"Accuracy\", history.history['val_accuracy'][-1])\n",
        "            mlflow.log_metric(\"Loss\", history.history['val_loss'][-1])\n",
        "            \n",
        "            # Log Model\n",
        "            mlflow.sklearn.log_model(\n",
        "                sk_model=model,\n",
        "                artifact_path=f'dnn-{i}',\n",
        "                registered_model_name=f'dnn-{i}'\n",
        "                )\n",
        "            \n",
        "            del model, history\n",
        "else:\n",
        "    print(\"No new runs added\")"
      ]
    },
    {
      "cell_type": "markdown",
      "metadata": {},
      "source": [
        "# Final Model"
      ]
    },
    {
      "cell_type": "code",
      "execution_count": 21,
      "metadata": {},
      "outputs": [
        {
          "name": "stdout",
          "output_type": "stream",
          "text": [
            "Epoch 1/15\n",
            "905/905 [==============================] - 5s 5ms/step - loss: 0.5477 - accuracy: 0.7237 - val_loss: 0.5204 - val_accuracy: 0.7472\n",
            "Epoch 2/15\n",
            "905/905 [==============================] - 5s 5ms/step - loss: 0.5273 - accuracy: 0.7408 - val_loss: 0.5179 - val_accuracy: 0.7491\n",
            "Epoch 3/15\n",
            "905/905 [==============================] - 5s 6ms/step - loss: 0.5249 - accuracy: 0.7407 - val_loss: 0.5136 - val_accuracy: 0.7479\n",
            "Epoch 4/15\n",
            "905/905 [==============================] - 5s 6ms/step - loss: 0.5236 - accuracy: 0.7412 - val_loss: 0.5137 - val_accuracy: 0.7485\n",
            "Epoch 5/15\n",
            "905/905 [==============================] - 4s 5ms/step - loss: 0.5220 - accuracy: 0.7421 - val_loss: 0.5119 - val_accuracy: 0.7493\n",
            "Epoch 6/15\n",
            "905/905 [==============================] - 5s 5ms/step - loss: 0.5214 - accuracy: 0.7427 - val_loss: 0.5149 - val_accuracy: 0.7466\n",
            "Epoch 7/15\n",
            "905/905 [==============================] - 4s 4ms/step - loss: 0.5208 - accuracy: 0.7429 - val_loss: 0.5144 - val_accuracy: 0.7502\n",
            "Epoch 8/15\n",
            "905/905 [==============================] - 4s 5ms/step - loss: 0.5189 - accuracy: 0.7447 - val_loss: 0.5136 - val_accuracy: 0.7482\n",
            "Epoch 9/15\n",
            "905/905 [==============================] - 5s 5ms/step - loss: 0.5195 - accuracy: 0.7436 - val_loss: 0.5113 - val_accuracy: 0.7478\n",
            "Epoch 10/15\n",
            "905/905 [==============================] - 4s 4ms/step - loss: 0.5170 - accuracy: 0.7436 - val_loss: 0.5149 - val_accuracy: 0.7504\n",
            "Epoch 11/15\n",
            "905/905 [==============================] - 4s 5ms/step - loss: 0.5183 - accuracy: 0.7441 - val_loss: 0.5101 - val_accuracy: 0.7489\n",
            "Epoch 12/15\n",
            "905/905 [==============================] - 5s 5ms/step - loss: 0.5168 - accuracy: 0.7446 - val_loss: 0.5131 - val_accuracy: 0.7501\n",
            "Epoch 13/15\n",
            "905/905 [==============================] - 5s 5ms/step - loss: 0.5156 - accuracy: 0.7452 - val_loss: 0.5134 - val_accuracy: 0.7511\n",
            "Epoch 14/15\n",
            "905/905 [==============================] - 5s 5ms/step - loss: 0.5149 - accuracy: 0.7458 - val_loss: 0.5112 - val_accuracy: 0.7514\n",
            "Epoch 15/15\n",
            "905/905 [==============================] - 4s 5ms/step - loss: 0.5150 - accuracy: 0.7437 - val_loss: 0.5129 - val_accuracy: 0.7474\n"
          ]
        },
        {
          "data": {
            "text/plain": [
              "<keras.callbacks.History at 0x7f00b4785b90>"
            ]
          },
          "execution_count": 21,
          "metadata": {},
          "output_type": "execute_result"
        }
      ],
      "source": [
        "model = create_model(activation='sigmoid',\n",
        "                     dropout_rate=0.3,\n",
        "                     optimizer=Adam,\n",
        "                     learning_rate=0.005)\n",
        "\n",
        "model.fit(train_x,\n",
        "          train_y,\n",
        "          epochs=15,\n",
        "          batch_size=50,\n",
        "          validation_data=(val_x, val_y))"
      ]
    },
    {
      "cell_type": "code",
      "execution_count": 22,
      "metadata": {},
      "outputs": [
        {
          "name": "stdout",
          "output_type": "stream",
          "text": [
            "354/354 [==============================] - 1s 1ms/step\n",
            "354/354 [==============================] - 0s 1ms/step\n",
            "354/354 [==============================] - 0s 997us/step\n",
            "354/354 [==============================] - 0s 873us/step\n",
            "354/354 [==============================] - 0s 1ms/step\n",
            "354/354 [==============================] - 0s 1ms/step\n",
            "354/354 [==============================] - 0s 746us/step\n",
            "354/354 [==============================] - 0s 1ms/step\n",
            "354/354 [==============================] - 0s 907us/step\n",
            "354/354 [==============================] - 0s 1ms/step\n",
            "354/354 [==============================] - 0s 885us/step\n",
            "354/354 [==============================] - 0s 804us/step\n",
            "354/354 [==============================] - 0s 1ms/step\n",
            "354/354 [==============================] - 0s 1ms/step\n",
            "354/354 [==============================] - 0s 874us/step\n",
            "354/354 [==============================] - 0s 923us/step\n",
            "354/354 [==============================] - 0s 660us/step\n"
          ]
        },
        {
          "data": {
            "image/png": "[encoded data removed]",
            "text/plain": [
              "<Figure size 640x480 with 1 Axes>"
            ]
          },
          "metadata": {},
          "output_type": "display_data"
        },
        {
          "name": "stdout",
          "output_type": "stream",
          "text": [
            "- Threshold: 0.35 | Accuracy: 0.716 | Precision: 0.652 | Recall: 0.929\n",
            "- Threshold: 0.40 | Accuracy: 0.732 | Precision: 0.672 | Recall: 0.907\n",
            "- Threshold: 0.45 | Accuracy: 0.738 | Precision: 0.687 | Recall: 0.877\n",
            "- Threshold: 0.50 | Accuracy: 0.747 | Precision: 0.710 | Recall: 0.838\n",
            "- Threshold: 0.55 | Accuracy: 0.748 | Precision: 0.746 | Recall: 0.753\n",
            "- Threshold: 0.60 | Accuracy: 0.730 | Precision: 0.771 | Recall: 0.654\n",
            "- Threshold: 0.65 | Accuracy: 0.717 | Precision: 0.788 | Recall: 0.594\n"
          ]
        }
      ],
      "source": [
        "# list of possible threshold values\n",
        "threshold_values = [i / 100 for i in range(10,95,5)]\n",
        "\n",
        "# list to hold precision, recall, accuracy scores for each possible threshold value\n",
        "prec_scores = []\n",
        "rec_scores = []\n",
        "acc_scores = []\n",
        "\n",
        "for threshold in threshold_values:\n",
        "    y_pred = (model.predict(val_x) > threshold).astype(int)\n",
        "    prec_scores.append(precision_score(val_y, y_pred))\n",
        "    rec_scores.append(recall_score(val_y, y_pred))\n",
        "    acc_scores.append(accuracy_score(val_y, y_pred))\n",
        "    \n",
        "plt.plot(threshold_values, prec_scores, label='Precision')\n",
        "plt.plot(threshold_values, rec_scores, label='Recall')\n",
        "plt.plot(threshold_values, acc_scores, label='Accuracy')\n",
        "plt.title('Choosing the Optimal Threshold')\n",
        "plt.xlabel('Threshold')\n",
        "plt.ylabel('Score')\n",
        "plt.legend()\n",
        "plt.show()\n",
        "\n",
        "for i in range(len(threshold_values)):\n",
        "     if acc_scores[i] > 0.7:\n",
        "         print(f'- Threshold: {threshold_values[i]:.2f} | Accuracy: {acc_scores[i]:.3f} | Precision: {prec_scores[i]:.3f} | Recall: {rec_scores[i]:.3f}')\n",
        "\n",
        "optimal_threshold = 0.45"
      ]
    },
    {
      "cell_type": "markdown",
      "metadata": {},
      "source": [
        "## Model Evaluation"
      ]
    },
    {
      "cell_type": "code",
      "execution_count": 23,
      "metadata": {},
      "outputs": [
        {
          "name": "stdout",
          "output_type": "stream",
          "text": [
            "442/442 [==============================] - 1s 2ms/step - loss: 0.5078 - accuracy: 0.7501\n",
            "Testing loss: 0.5078132152557373\n",
            "Testing accuracy: 0.7501237988471985\n"
          ]
        }
      ],
      "source": [
        "test_loss, test_acc = model.evaluate(test_x, test_y)\n",
        "print(\"Testing loss:\", test_loss)\n",
        "print(\"Testing accuracy:\", test_acc)"
      ]
    },
    {
      "cell_type": "code",
      "execution_count": 24,
      "metadata": {},
      "outputs": [
        {
          "name": "stdout",
          "output_type": "stream",
          "text": [
            "442/442 [==============================] - 0s 765us/step\n"
          ]
        }
      ],
      "source": [
        "y_pred = (model.predict(test_x) > optimal_threshold).astype(int)"
      ]
    },
    {
      "cell_type": "code",
      "execution_count": 28,
      "metadata": {},
      "outputs": [
        {
          "data": {
            "image/png": "[encoded data removed]",
            "text/plain": [
              "<Figure size 640x480 with 2 Axes>"
            ]
          },
          "metadata": {},
          "output_type": "display_data"
        }
      ],
      "source": [
        "cm = confusion_matrix(test_y, y_pred)\n",
        "disp = ConfusionMatrixDisplay(cm)\n",
        "disp.plot()\n",
        "plt.show()"
      ]
    },
    {
      "cell_type": "code",
      "execution_count": 29,
      "metadata": {},
      "outputs": [
        {
          "name": "stdout",
          "output_type": "stream",
          "text": [
            "Classification Report:\n",
            "              precision    recall  f1-score   support\n",
            "\n",
            "           0       0.84      0.60      0.70      7069\n",
            "           1       0.69      0.88      0.77      7070\n",
            "\n",
            "    accuracy                           0.74     14139\n",
            "   macro avg       0.76      0.74      0.74     14139\n",
            "weighted avg       0.76      0.74      0.74     14139\n",
            "\n"
          ]
        }
      ],
      "source": [
        "print(\"Classification Report:\")\n",
        "print(classification_report(test_y, y_pred))"
      ]
    }
  ],
  "metadata": {
    "colab": {
      "provenance": []
    },
    "kernelspec": {
      "display_name": "Python 3",
      "name": "python3"
    },
    "language_info": {
      "codemirror_mode": {
        "name": "ipython",
        "version": 3
      },
      "file_extension": ".py",
      "mimetype": "text/x-python",
      "name": "python",
      "nbconvert_exporter": "python",
      "pygments_lexer": "ipython3",
      "version": "3.11.5"
    }
  },
  "nbformat": 4,
  "nbformat_minor": 0
}
