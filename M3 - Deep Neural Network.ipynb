{
  "cells": [
    {
      "cell_type": "markdown",
      "metadata": {
        "id": "ZBuVdxb5yBei"
      },
      "source": [
        "## DNN"
      ]
    },
    {
      "cell_type": "markdown",
      "metadata": {
        "id": "qqpHq_twzvWu"
      },
      "source": [
        "### Importing necessary libraries"
      ]
    },
    {
      "cell_type": "code",
      "execution_count": 21,
      "metadata": {
        "id": "m0AZ3bMtxtD7"
      },
      "outputs": [],
      "source": [
        "import matplotlib.pyplot as plt\n",
        "\n",
        "import tensorflow as tf\n",
        "from keras import Sequential\n",
        "from keras.layers import Dense, Dropout\n",
        "from keras.callbacks import EarlyStopping\n",
        "from keras.optimizers import Adam, SGD, Adadelta\n",
        "from scikeras.wrappers import KerasClassifier\n",
        "\n",
        "from sklearn.model_selection import cross_val_score, GridSearchCV\n",
        "from sklearn.metrics import accuracy_score, precision_score, recall_score\n",
        "from sklearn.metrics import confusion_matrix, ConfusionMatrixDisplay, classification_report\n",
        "\n",
        "from modules.helpers import load_data"
      ]
    },
    {
      "cell_type": "markdown",
      "metadata": {},
      "source": [
        "### Loading the datasets"
      ]
    },
    {
      "cell_type": "code",
      "execution_count": 22,
      "metadata": {},
      "outputs": [],
      "source": [
        "(train_x, train_y), (val_x, val_y), (test_x, test_y) = load_data('dnn')"
      ]
    },
    {
      "cell_type": "markdown",
      "metadata": {},
      "source": [
        "### Model building"
      ]
    },
    {
      "cell_type": "code",
      "execution_count": 23,
      "metadata": {},
      "outputs": [
        {
          "name": "stderr",
          "output_type": "stream",
          "text": [
            "c:\\Users\\ALENA MARIA THOMAS\\AppData\\Local\\Programs\\Python\\Python312\\Lib\\site-packages\\keras\\src\\layers\\core\\dense.py:87: UserWarning: Do not pass an `input_shape`/`input_dim` argument to a layer. When using Sequential models, prefer using an `Input(shape)` object as the first layer in the model instead.\n",
            "  super().__init__(activity_regularizer=activity_regularizer, **kwargs)\n"
          ]
        }
      ],
      "source": [
        "model = Sequential([\n",
        "    Dense(64, activation='relu', input_shape=(train_x.shape[1],)),\n",
        "    Dropout(0.2),  \n",
        "    Dense(64, activation='relu'),  \n",
        "    Dropout(0.2),  \n",
        "    Dense(32, activation='relu'),  \n",
        "    Dropout(0.2),\n",
        "    Dense(1, activation='sigmoid') \n",
        "])"
      ]
    },
    {
      "cell_type": "code",
      "execution_count": 24,
      "metadata": {},
      "outputs": [],
      "source": [
        "model.compile(optimizer=Adam(), \n",
        "              loss='binary_crossentropy', \n",
        "              metrics=['accuracy']\n",
        ")"
      ]
    },
    {
      "cell_type": "code",
      "execution_count": 25,
      "metadata": {},
      "outputs": [
        {
          "name": "stdout",
          "output_type": "stream",
          "text": [
            "Epoch 1/20\n",
            "\u001b[1m1414/1414\u001b[0m \u001b[32m━━━━━━━━━━━━━━━━━━━━\u001b[0m\u001b[37m\u001b[0m \u001b[1m6s\u001b[0m 3ms/step - accuracy: 0.6202 - loss: 0.6668 - val_accuracy: 0.7446 - val_loss: 0.5298\n",
            "Epoch 2/20\n",
            "\u001b[1m1414/1414\u001b[0m \u001b[32m━━━━━━━━━━━━━━━━━━━━\u001b[0m\u001b[37m\u001b[0m \u001b[1m4s\u001b[0m 3ms/step - accuracy: 0.7365 - loss: 0.5312 - val_accuracy: 0.7474 - val_loss: 0.5106\n",
            "Epoch 3/20\n",
            "\u001b[1m1414/1414\u001b[0m \u001b[32m━━━━━━━━━━━━━━━━━━━━\u001b[0m\u001b[37m\u001b[0m \u001b[1m3s\u001b[0m 2ms/step - accuracy: 0.7426 - loss: 0.5226 - val_accuracy: 0.7494 - val_loss: 0.5146\n",
            "Epoch 4/20\n",
            "\u001b[1m1414/1414\u001b[0m \u001b[32m━━━━━━━━━━━━━━━━━━━━\u001b[0m\u001b[37m\u001b[0m \u001b[1m3s\u001b[0m 2ms/step - accuracy: 0.7475 - loss: 0.5184 - val_accuracy: 0.7524 - val_loss: 0.5112\n",
            "Epoch 5/20\n",
            "\u001b[1m1414/1414\u001b[0m \u001b[32m━━━━━━━━━━━━━━━━━━━━\u001b[0m\u001b[37m\u001b[0m \u001b[1m4s\u001b[0m 3ms/step - accuracy: 0.7467 - loss: 0.5179 - val_accuracy: 0.7522 - val_loss: 0.5126\n",
            "Epoch 6/20\n",
            "\u001b[1m1414/1414\u001b[0m \u001b[32m━━━━━━━━━━━━━━━━━━━━\u001b[0m\u001b[37m\u001b[0m \u001b[1m4s\u001b[0m 2ms/step - accuracy: 0.7449 - loss: 0.5180 - val_accuracy: 0.7508 - val_loss: 0.5069\n",
            "Epoch 7/20\n",
            "\u001b[1m1414/1414\u001b[0m \u001b[32m━━━━━━━━━━━━━━━━━━━━\u001b[0m\u001b[37m\u001b[0m \u001b[1m4s\u001b[0m 3ms/step - accuracy: 0.7515 - loss: 0.5101 - val_accuracy: 0.7537 - val_loss: 0.5089\n",
            "Epoch 8/20\n",
            "\u001b[1m1414/1414\u001b[0m \u001b[32m━━━━━━━━━━━━━━━━━━━━\u001b[0m\u001b[37m\u001b[0m \u001b[1m4s\u001b[0m 3ms/step - accuracy: 0.7501 - loss: 0.5115 - val_accuracy: 0.7487 - val_loss: 0.5078\n",
            "Epoch 9/20\n",
            "\u001b[1m1414/1414\u001b[0m \u001b[32m━━━━━━━━━━━━━━━━━━━━\u001b[0m\u001b[37m\u001b[0m \u001b[1m4s\u001b[0m 3ms/step - accuracy: 0.7488 - loss: 0.5120 - val_accuracy: 0.7532 - val_loss: 0.5067\n",
            "Epoch 10/20\n",
            "\u001b[1m1414/1414\u001b[0m \u001b[32m━━━━━━━━━━━━━━━━━━━━\u001b[0m\u001b[37m\u001b[0m \u001b[1m4s\u001b[0m 3ms/step - accuracy: 0.7485 - loss: 0.5102 - val_accuracy: 0.7514 - val_loss: 0.5143\n",
            "Epoch 11/20\n",
            "\u001b[1m1414/1414\u001b[0m \u001b[32m━━━━━━━━━━━━━━━━━━━━\u001b[0m\u001b[37m\u001b[0m \u001b[1m4s\u001b[0m 3ms/step - accuracy: 0.7501 - loss: 0.5100 - val_accuracy: 0.7506 - val_loss: 0.5086\n",
            "Epoch 12/20\n",
            "\u001b[1m1414/1414\u001b[0m \u001b[32m━━━━━━━━━━━━━━━━━━━━\u001b[0m\u001b[37m\u001b[0m \u001b[1m4s\u001b[0m 3ms/step - accuracy: 0.7507 - loss: 0.5082 - val_accuracy: 0.7514 - val_loss: 0.5052\n",
            "Epoch 13/20\n",
            "\u001b[1m1414/1414\u001b[0m \u001b[32m━━━━━━━━━━━━━━━━━━━━\u001b[0m\u001b[37m\u001b[0m \u001b[1m4s\u001b[0m 3ms/step - accuracy: 0.7474 - loss: 0.5125 - val_accuracy: 0.7510 - val_loss: 0.5075\n",
            "Epoch 14/20\n",
            "\u001b[1m1414/1414\u001b[0m \u001b[32m━━━━━━━━━━━━━━━━━━━━\u001b[0m\u001b[37m\u001b[0m \u001b[1m4s\u001b[0m 3ms/step - accuracy: 0.7524 - loss: 0.5096 - val_accuracy: 0.7523 - val_loss: 0.5095\n",
            "Epoch 15/20\n",
            "\u001b[1m1414/1414\u001b[0m \u001b[32m━━━━━━━━━━━━━━━━━━━━\u001b[0m\u001b[37m\u001b[0m \u001b[1m4s\u001b[0m 3ms/step - accuracy: 0.7506 - loss: 0.5114 - val_accuracy: 0.7504 - val_loss: 0.5082\n",
            "Epoch 16/20\n",
            "\u001b[1m1414/1414\u001b[0m \u001b[32m━━━━━━━━━━━━━━━━━━━━\u001b[0m\u001b[37m\u001b[0m \u001b[1m6s\u001b[0m 3ms/step - accuracy: 0.7547 - loss: 0.5058 - val_accuracy: 0.7522 - val_loss: 0.5042\n",
            "Epoch 17/20\n",
            "\u001b[1m1414/1414\u001b[0m \u001b[32m━━━━━━━━━━━━━━━━━━━━\u001b[0m\u001b[37m\u001b[0m \u001b[1m4s\u001b[0m 3ms/step - accuracy: 0.7503 - loss: 0.5105 - val_accuracy: 0.7515 - val_loss: 0.5133\n",
            "Epoch 18/20\n",
            "\u001b[1m1414/1414\u001b[0m \u001b[32m━━━━━━━━━━━━━━━━━━━━\u001b[0m\u001b[37m\u001b[0m \u001b[1m4s\u001b[0m 3ms/step - accuracy: 0.7541 - loss: 0.5074 - val_accuracy: 0.7537 - val_loss: 0.5054\n",
            "Epoch 19/20\n",
            "\u001b[1m1414/1414\u001b[0m \u001b[32m━━━━━━━━━━━━━━━━━━━━\u001b[0m\u001b[37m\u001b[0m \u001b[1m4s\u001b[0m 3ms/step - accuracy: 0.7563 - loss: 0.5054 - val_accuracy: 0.7524 - val_loss: 0.5043\n",
            "Epoch 20/20\n",
            "\u001b[1m1414/1414\u001b[0m \u001b[32m━━━━━━━━━━━━━━━━━━━━\u001b[0m\u001b[37m\u001b[0m \u001b[1m4s\u001b[0m 3ms/step - accuracy: 0.7508 - loss: 0.5092 - val_accuracy: 0.7543 - val_loss: 0.5068\n"
          ]
        },
        {
          "data": {
            "text/plain": [
              "<keras.src.callbacks.history.History at 0x2061d501280>"
            ]
          },
          "execution_count": 25,
          "metadata": {},
          "output_type": "execute_result"
        }
      ],
      "source": [
        "model.fit(train_x,\n",
        "          train_y,\n",
        "          epochs=20, \n",
        "          validation_data=(val_x, val_y))"
      ]
    },
    {
      "cell_type": "markdown",
      "metadata": {},
      "source": [
        "### Choosing the Optimal Threshold"
      ]
    },
    {
      "cell_type": "markdown",
      "metadata": {},
      "source": [
        "We check for possible values of threshold in range $[0.1, 0.9]$ with step 0.05"
      ]
    },
    {
      "cell_type": "code",
      "execution_count": 26,
      "metadata": {},
      "outputs": [
        {
          "name": "stdout",
          "output_type": "stream",
          "text": [
            "\u001b[1m354/354\u001b[0m \u001b[32m━━━━━━━━━━━━━━━━━━━━\u001b[0m\u001b[37m\u001b[0m \u001b[1m1s\u001b[0m 2ms/step\n",
            "\u001b[1m354/354\u001b[0m \u001b[32m━━━━━━━━━━━━━━━━━━━━\u001b[0m\u001b[37m\u001b[0m \u001b[1m1s\u001b[0m 2ms/step\n",
            "\u001b[1m354/354\u001b[0m \u001b[32m━━━━━━━━━━━━━━━━━━━━\u001b[0m\u001b[37m\u001b[0m \u001b[1m1s\u001b[0m 2ms/step\n",
            "\u001b[1m354/354\u001b[0m \u001b[32m━━━━━━━━━━━━━━━━━━━━\u001b[0m\u001b[37m\u001b[0m \u001b[1m1s\u001b[0m 2ms/step\n",
            "\u001b[1m354/354\u001b[0m \u001b[32m━━━━━━━━━━━━━━━━━━━━\u001b[0m\u001b[37m\u001b[0m \u001b[1m1s\u001b[0m 2ms/step\n",
            "\u001b[1m354/354\u001b[0m \u001b[32m━━━━━━━━━━━━━━━━━━━━\u001b[0m\u001b[37m\u001b[0m \u001b[1m1s\u001b[0m 1ms/step\n",
            "\u001b[1m354/354\u001b[0m \u001b[32m━━━━━━━━━━━━━━━━━━━━\u001b[0m\u001b[37m\u001b[0m \u001b[1m1s\u001b[0m 1ms/step\n",
            "\u001b[1m354/354\u001b[0m \u001b[32m━━━━━━━━━━━━━━━━━━━━\u001b[0m\u001b[37m\u001b[0m \u001b[1m1s\u001b[0m 1ms/step\n",
            "\u001b[1m354/354\u001b[0m \u001b[32m━━━━━━━━━━━━━━━━━━━━\u001b[0m\u001b[37m\u001b[0m \u001b[1m1s\u001b[0m 1ms/step\n",
            "\u001b[1m354/354\u001b[0m \u001b[32m━━━━━━━━━━━━━━━━━━━━\u001b[0m\u001b[37m\u001b[0m \u001b[1m0s\u001b[0m 1ms/step\n",
            "\u001b[1m354/354\u001b[0m \u001b[32m━━━━━━━━━━━━━━━━━━━━\u001b[0m\u001b[37m\u001b[0m \u001b[1m0s\u001b[0m 1ms/step\n",
            "\u001b[1m354/354\u001b[0m \u001b[32m━━━━━━━━━━━━━━━━━━━━\u001b[0m\u001b[37m\u001b[0m \u001b[1m0s\u001b[0m 1ms/step\n",
            "\u001b[1m354/354\u001b[0m \u001b[32m━━━━━━━━━━━━━━━━━━━━\u001b[0m\u001b[37m\u001b[0m \u001b[1m0s\u001b[0m 1ms/step\n",
            "\u001b[1m354/354\u001b[0m \u001b[32m━━━━━━━━━━━━━━━━━━━━\u001b[0m\u001b[37m\u001b[0m \u001b[1m0s\u001b[0m 1ms/step\n",
            "\u001b[1m354/354\u001b[0m \u001b[32m━━━━━━━━━━━━━━━━━━━━\u001b[0m\u001b[37m\u001b[0m \u001b[1m1s\u001b[0m 1ms/step\n",
            "\u001b[1m354/354\u001b[0m \u001b[32m━━━━━━━━━━━━━━━━━━━━\u001b[0m\u001b[37m\u001b[0m \u001b[1m1s\u001b[0m 1ms/step\n",
            "\u001b[1m354/354\u001b[0m \u001b[32m━━━━━━━━━━━━━━━━━━━━\u001b[0m\u001b[37m\u001b[0m \u001b[1m0s\u001b[0m 1ms/step\n"
          ]
        }
      ],
      "source": [
        "# list of possible threshold values\n",
        "threshold_values = [i / 100 for i in range(10,95,5)]\n",
        "\n",
        "# list to hold precision, recall, accuracy scores for each possible threshold value\n",
        "prec_scores = []\n",
        "rec_scores = []\n",
        "acc_scores = []\n",
        "\n",
        "for threshold in threshold_values:\n",
        "    y_pred = (model.predict(val_x) > threshold).astype(int)\n",
        "    prec_scores.append(precision_score(val_y, y_pred))\n",
        "    rec_scores.append(recall_score(val_y, y_pred))\n",
        "    acc_scores.append(accuracy_score(val_y, y_pred))\n"
      ]
    },
    {
      "cell_type": "code",
      "execution_count": 27,
      "metadata": {},
      "outputs": [
        {
          "data": {
            "image/png": "[encoded data removed]",
            "text/plain": [
              "<Figure size 640x480 with 1 Axes>"
            ]
          },
          "metadata": {},
          "output_type": "display_data"
        }
      ],
      "source": [
        "plt.plot(threshold_values, prec_scores, label='Precision')\n",
        "plt.plot(threshold_values, rec_scores, label='Recall')\n",
        "plt.plot(threshold_values, acc_scores, label='Accuracy')\n",
        "plt.title('Choosing the Optimal Threshold')\n",
        "plt.xlabel('Threshold')\n",
        "plt.ylabel('Score')\n",
        "plt.legend()\n",
        "plt.show()"
      ]
    },
    {
      "cell_type": "code",
      "execution_count": 28,
      "metadata": {},
      "outputs": [
        {
          "name": "stdout",
          "output_type": "stream",
          "text": [
            "- Threshold: 0.30 | Accuracy: 0.718 | Precision: 0.652 | Recall: 0.932\n",
            "- Threshold: 0.35 | Accuracy: 0.736 | Precision: 0.676 | Recall: 0.906\n",
            "- Threshold: 0.40 | Accuracy: 0.747 | Precision: 0.701 | Recall: 0.864\n",
            "- Threshold: 0.45 | Accuracy: 0.751 | Precision: 0.722 | Recall: 0.818\n",
            "- Threshold: 0.50 | Accuracy: 0.754 | Precision: 0.738 | Recall: 0.788\n",
            "- Threshold: 0.55 | Accuracy: 0.749 | Precision: 0.752 | Recall: 0.744\n",
            "- Threshold: 0.60 | Accuracy: 0.739 | Precision: 0.769 | Recall: 0.683\n",
            "- Threshold: 0.65 | Accuracy: 0.720 | Precision: 0.791 | Recall: 0.599\n"
          ]
        }
      ],
      "source": [
        "for i in range(len(threshold_values)):\n",
        "     if acc_scores[i] > 0.7:\n",
        "         print(f'- Threshold: {threshold_values[i]:.2f} | Accuracy: {acc_scores[i]:.3f} | Precision: {prec_scores[i]:.3f} | Recall: {rec_scores[i]:.3f}')"
      ]
    },
    {
      "cell_type": "markdown",
      "metadata": {},
      "source": [
        "We choose the optimal threshold to be 0.55 since it has maximum accuracy and recall, while maintaining a hight precision."
      ]
    },
    {
      "cell_type": "code",
      "execution_count": 29,
      "metadata": {},
      "outputs": [],
      "source": [
        "optimal_threshold = 0.55"
      ]
    },
    {
      "cell_type": "markdown",
      "metadata": {},
      "source": [
        "### Model Evaluation"
      ]
    },
    {
      "cell_type": "code",
      "execution_count": 30,
      "metadata": {},
      "outputs": [
        {
          "name": "stdout",
          "output_type": "stream",
          "text": [
            "\u001b[1m442/442\u001b[0m \u001b[32m━━━━━━━━━━━━━━━━━━━━\u001b[0m\u001b[37m\u001b[0m \u001b[1m1s\u001b[0m 2ms/step - accuracy: 0.7556 - loss: 0.4989\n",
            "Testing loss: 0.5000461935997009\n",
            "Testing accuracy: 0.7546502351760864\n"
          ]
        }
      ],
      "source": [
        "test_loss, test_acc = model.evaluate(test_x, test_y)\n",
        "print(\"Testing loss:\", test_loss)\n",
        "print(\"Testing accuracy:\", test_acc)"
      ]
    },
    {
      "cell_type": "code",
      "execution_count": 31,
      "metadata": {},
      "outputs": [
        {
          "name": "stdout",
          "output_type": "stream",
          "text": [
            "\u001b[1m442/442\u001b[0m \u001b[32m━━━━━━━━━━━━━━━━━━━━\u001b[0m\u001b[37m\u001b[0m \u001b[1m1s\u001b[0m 2ms/step\n"
          ]
        }
      ],
      "source": [
        "y_pred = (model.predict(test_x) > optimal_threshold).astype(int)"
      ]
    },
    {
      "cell_type": "code",
      "execution_count": 32,
      "metadata": {},
      "outputs": [
        {
          "name": "stdout",
          "output_type": "stream",
          "text": [
            "Confusion Matrix:\n"
          ]
        },
        {
          "data": {
            "image/png": "[encoded data removed]",
            "text/plain": [
              "<Figure size 640x480 with 2 Axes>"
            ]
          },
          "metadata": {},
          "output_type": "display_data"
        }
      ],
      "source": [
        "cm = confusion_matrix(test_y, y_pred)\n",
        "print(\"Confusion Matrix:\")\n",
        "disp = ConfusionMatrixDisplay(cm)\n",
        "disp.plot()\n",
        "plt.show()"
      ]
    },
    {
      "cell_type": "code",
      "execution_count": 33,
      "metadata": {},
      "outputs": [
        {
          "name": "stdout",
          "output_type": "stream",
          "text": [
            "Classification Report:\n",
            "              precision    recall  f1-score   support\n",
            "\n",
            "           0       0.75      0.75      0.75      7069\n",
            "           1       0.75      0.75      0.75      7070\n",
            "\n",
            "    accuracy                           0.75     14139\n",
            "   macro avg       0.75      0.75      0.75     14139\n",
            "weighted avg       0.75      0.75      0.75     14139\n",
            "\n"
          ]
        }
      ],
      "source": [
        "print(\"Classification Report:\")\n",
        "print(classification_report(test_y, y_pred))"
      ]
    },
    {
      "cell_type": "markdown",
      "metadata": {},
      "source": [
        "### Fine-tuning the model."
      ]
    },
    {
      "cell_type": "markdown",
      "metadata": {},
      "source": [
        "We apply early stopping to prevent overfitting."
      ]
    },
    {
      "cell_type": "code",
      "execution_count": 34,
      "metadata": {},
      "outputs": [],
      "source": [
        "early_stopping = EarlyStopping(monitor='val_loss', mode='min', verbose=1, patience=3)"
      ]
    },
    {
      "cell_type": "code",
      "execution_count": 41,
      "metadata": {},
      "outputs": [],
      "source": [
        "def create_model(activation='relu', dropout_rate=0.2, optimizer='Adam', learning_rate=0.01):\n",
        "\n",
        "    model = Sequential([\n",
        "        Dense(64, activation=activation, input_shape=(51,)), # (train_x.shape[1],)\n",
        "        Dropout(dropout_rate),  \n",
        "        Dense(64, activation=activation),  \n",
        "        Dropout(dropout_rate),  \n",
        "        Dense(32, activation=activation),  \n",
        "        Dropout(dropout_rate),\n",
        "        Dense(1, activation='sigmoid') \n",
        "    ])\n",
        "\n",
        "    if optimizer == 'Adam':\n",
        "        opt = Adam(learning_rate=learning_rate)\n",
        "    elif optimizer == 'SGD':\n",
        "        opt = SGD(learning_rate=learning_rate)\n",
        "    elif optimizer == 'Adadelta':\n",
        "        opt = Adadelta(learning_rate=learning_rate)\n",
        "    \n",
        "    \n",
        "    model.compile(\n",
        "        optimizer=opt,  \n",
        "        loss='binary_crossentropy',  \n",
        "        metrics=['accuracy']  \n",
        "    )\n",
        "    \n",
        "    return model"
      ]
    },
    {
      "cell_type": "code",
      "execution_count": 36,
      "metadata": {},
      "outputs": [],
      "source": [
        "model_ft = KerasClassifier(build_fn=create_model, epochs=20, batch_size=16, verbose=1)"
      ]
    },
    {
      "cell_type": "code",
      "execution_count": 42,
      "metadata": {},
      "outputs": [],
      "source": [
        "param_grid = {\n",
        "    'model__activation': ['relu', 'softplus', 'sigmoid', 'tanh'],\n",
        "    'model__dropout_rate': [0.1, 0.2, 0.3],\n",
        "    'model__optimizer': ['Adam', 'SGD', 'Adadelta'],  \n",
        "    'model__learning_rate': [0.005, 0.01]  \n",
        "}"
      ]
    },
    {
      "cell_type": "code",
      "execution_count": null,
      "metadata": {},
      "outputs": [],
      "source": [
        "grid = GridSearchCV(estimator=model_ft, param_grid=param_grid, cv=3, verbose=1, n_jobs=1)  \n",
        "grid_result = grid.fit(train_x, train_y)"
      ]
    },
    {
      "cell_type": "code",
      "execution_count": null,
      "metadata": {},
      "outputs": [],
      "source": [
        "print(\"Best Parameters:\", grid_result.best_params_)\n",
        "print(\"Best Score:\", grid_result.best_score_)"
      ]
    }
  ],
  "metadata": {
    "colab": {
      "provenance": []
    },
    "kernelspec": {
      "display_name": "Python 3",
      "name": "python3"
    },
    "language_info": {
      "codemirror_mode": {
        "name": "ipython",
        "version": 3
      },
      "file_extension": ".py",
      "mimetype": "text/x-python",
      "name": "python",
      "nbconvert_exporter": "python",
      "pygments_lexer": "ipython3",
      "version": "3.12.1"
    }
  },
  "nbformat": 4,
  "nbformat_minor": 0
}
