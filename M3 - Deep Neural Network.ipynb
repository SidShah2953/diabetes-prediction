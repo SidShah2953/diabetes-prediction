{
  "cells": [
    {
      "cell_type": "markdown",
      "metadata": {
        "id": "ZBuVdxb5yBei"
      },
      "source": [
        "## DNN"
      ]
    },
    {
      "cell_type": "markdown",
      "metadata": {
        "id": "qqpHq_twzvWu"
      },
      "source": [
        "### libraries"
      ]
    },
    {
      "cell_type": "code",
      "execution_count": 1,
      "metadata": {
        "id": "m0AZ3bMtxtD7"
      },
      "outputs": [],
      "source": [
        "import matplotlib.pyplot as plt\n",
        "\n",
        "from keras import Sequential\n",
        "from keras.layers import Dense, Dropout\n",
        "\n",
        "from sklearn.metrics import confusion_matrix, classification_report, ConfusionMatrixDisplay\n",
        "\n",
        "from modules.helpers import load_data"
      ]
    },
    {
      "cell_type": "code",
      "execution_count": 2,
      "metadata": {},
      "outputs": [],
      "source": [
        "(train_x, train_y), (val_x, val_y), (test_x, test_y) = load_data('dnn')"
      ]
    },
    {
      "cell_type": "markdown",
      "metadata": {},
      "source": [
        "### model building"
      ]
    },
    {
      "cell_type": "code",
      "execution_count": 3,
      "metadata": {},
      "outputs": [
        {
          "name": "stderr",
          "output_type": "stream",
          "text": [
            "2024-04-25 17:01:35.159774: I metal_plugin/src/device/metal_device.cc:1154] Metal device set to: Apple M1\n",
            "2024-04-25 17:01:35.159822: I metal_plugin/src/device/metal_device.cc:296] systemMemory: 8.00 GB\n",
            "2024-04-25 17:01:35.159834: I metal_plugin/src/device/metal_device.cc:313] maxCacheSize: 2.67 GB\n",
            "2024-04-25 17:01:35.160134: I tensorflow/core/common_runtime/pluggable_device/pluggable_device_factory.cc:306] Could not identify NUMA node of platform GPU ID 0, defaulting to 0. Your kernel may not have been built with NUMA support.\n",
            "2024-04-25 17:01:35.160352: I tensorflow/core/common_runtime/pluggable_device/pluggable_device_factory.cc:272] Created TensorFlow device (/job:localhost/replica:0/task:0/device:GPU:0 with 0 MB memory) -> physical PluggableDevice (device: 0, name: METAL, pci bus id: <undefined>)\n"
          ]
        }
      ],
      "source": [
        "model = Sequential([\n",
        "    Dense(64, activation='relu', input_shape=(train_x.shape[1],)),\n",
        "    Dropout(0.2),  \n",
        "    Dense(64, activation='relu'),  \n",
        "    Dropout(0.2),  \n",
        "    Dense(32, activation='relu'),  \n",
        "    Dropout(0.2),\n",
        "    Dense(1, activation='sigmoid') \n",
        "])"
      ]
    },
    {
      "cell_type": "code",
      "execution_count": 4,
      "metadata": {},
      "outputs": [],
      "source": [
        "model.compile(optimizer='adam', loss='binary_crossentropy', metrics=['accuracy'])"
      ]
    },
    {
      "cell_type": "code",
      "execution_count": 5,
      "metadata": {},
      "outputs": [
        {
          "name": "stdout",
          "output_type": "stream",
          "text": [
            "Epoch 1/20\n"
          ]
        },
        {
          "name": "stderr",
          "output_type": "stream",
          "text": [
            "2024-04-25 17:01:35.503732: W tensorflow/tsl/platform/profile_utils/cpu_utils.cc:128] Failed to get CPU frequency: 0 Hz\n",
            "2024-04-25 17:01:35.732713: I tensorflow/core/grappler/optimizers/custom_graph_optimizer_registry.cc:114] Plugin optimizer for device_type GPU is enabled.\n"
          ]
        },
        {
          "name": "stdout",
          "output_type": "stream",
          "text": [
            "1414/1414 [==============================] - ETA: 0s - loss: 0.7455 - accuracy: 0.6647"
          ]
        },
        {
          "name": "stderr",
          "output_type": "stream",
          "text": [
            "2024-04-25 17:01:44.063266: I tensorflow/core/grappler/optimizers/custom_graph_optimizer_registry.cc:114] Plugin optimizer for device_type GPU is enabled.\n"
          ]
        },
        {
          "name": "stdout",
          "output_type": "stream",
          "text": [
            "1414/1414 [==============================] - 10s 6ms/step - loss: 0.7455 - accuracy: 0.6647 - val_loss: 0.6307 - val_accuracy: 0.7048\n",
            "Epoch 2/20\n",
            "1414/1414 [==============================] - 9s 6ms/step - loss: 0.6439 - accuracy: 0.6999 - val_loss: 0.6150 - val_accuracy: 0.7362\n",
            "Epoch 3/20\n",
            "1414/1414 [==============================] - 9s 6ms/step - loss: 0.6704 - accuracy: 0.6988 - val_loss: 0.6813 - val_accuracy: 0.7056\n",
            "Epoch 4/20\n",
            "1414/1414 [==============================] - 9s 6ms/step - loss: 0.6321 - accuracy: 0.7042 - val_loss: 0.7967 - val_accuracy: 0.6656\n",
            "Epoch 5/20\n",
            "1414/1414 [==============================] - 9s 6ms/step - loss: 0.6222 - accuracy: 0.7069 - val_loss: 0.6423 - val_accuracy: 0.6925\n",
            "Epoch 6/20\n",
            "1414/1414 [==============================] - 9s 6ms/step - loss: 0.5918 - accuracy: 0.7132 - val_loss: 0.6639 - val_accuracy: 0.6912\n",
            "Epoch 7/20\n",
            "1414/1414 [==============================] - 9s 7ms/step - loss: 0.5780 - accuracy: 0.7187 - val_loss: 0.6440 - val_accuracy: 0.6960\n",
            "Epoch 8/20\n",
            "1414/1414 [==============================] - 9s 7ms/step - loss: 0.5771 - accuracy: 0.7174 - val_loss: 0.5511 - val_accuracy: 0.7289\n",
            "Epoch 9/20\n",
            "1414/1414 [==============================] - 10s 7ms/step - loss: 0.5731 - accuracy: 0.7172 - val_loss: 0.5302 - val_accuracy: 0.7464\n",
            "Epoch 10/20\n",
            "1414/1414 [==============================] - 9s 6ms/step - loss: 0.5705 - accuracy: 0.7186 - val_loss: 0.5536 - val_accuracy: 0.7466\n",
            "Epoch 11/20\n",
            "1414/1414 [==============================] - 9s 6ms/step - loss: 0.5748 - accuracy: 0.7206 - val_loss: 0.5140 - val_accuracy: 0.7499\n",
            "Epoch 12/20\n",
            "1414/1414 [==============================] - 9s 6ms/step - loss: 0.5790 - accuracy: 0.7187 - val_loss: 0.5447 - val_accuracy: 0.7196\n",
            "Epoch 13/20\n",
            "1414/1414 [==============================] - 9s 6ms/step - loss: 0.6025 - accuracy: 0.7140 - val_loss: 0.5156 - val_accuracy: 0.7482\n",
            "Epoch 14/20\n",
            "1414/1414 [==============================] - 9s 7ms/step - loss: 0.6002 - accuracy: 0.7129 - val_loss: 0.5419 - val_accuracy: 0.7393\n",
            "Epoch 15/20\n",
            "1414/1414 [==============================] - 9s 7ms/step - loss: 0.6202 - accuracy: 0.7083 - val_loss: 0.6154 - val_accuracy: 0.6817\n",
            "Epoch 16/20\n",
            "1414/1414 [==============================] - 9s 7ms/step - loss: 0.6149 - accuracy: 0.7097 - val_loss: 0.5662 - val_accuracy: 0.6989\n",
            "Epoch 17/20\n",
            "1414/1414 [==============================] - 9s 7ms/step - loss: 0.6238 - accuracy: 0.7114 - val_loss: 0.7098 - val_accuracy: 0.7224\n",
            "Epoch 18/20\n",
            "1414/1414 [==============================] - 9s 6ms/step - loss: 0.6527 - accuracy: 0.7019 - val_loss: 0.5311 - val_accuracy: 0.7363\n",
            "Epoch 19/20\n",
            "1414/1414 [==============================] - 9s 6ms/step - loss: 0.6560 - accuracy: 0.7030 - val_loss: 0.5909 - val_accuracy: 0.7365\n",
            "Epoch 20/20\n",
            "1414/1414 [==============================] - 9s 6ms/step - loss: 0.6512 - accuracy: 0.7010 - val_loss: 0.5256 - val_accuracy: 0.7369\n"
          ]
        },
        {
          "data": {
            "text/plain": [
              "<keras.callbacks.History at 0x30876aa10>"
            ]
          },
          "execution_count": 5,
          "metadata": {},
          "output_type": "execute_result"
        }
      ],
      "source": [
        "model.fit(train_x,\n",
        "          train_y,\n",
        "          epochs=20, \n",
        "          validation_data=(val_x, val_y))"
      ]
    },
    {
      "cell_type": "code",
      "execution_count": 6,
      "metadata": {},
      "outputs": [
        {
          "name": "stdout",
          "output_type": "stream",
          "text": [
            "442/442 [==============================] - 2s 3ms/step - loss: 0.5199 - accuracy: 0.7419\n",
            "Testing loss: 0.5199482440948486\n",
            "Testing accuracy: 0.7419195175170898\n"
          ]
        }
      ],
      "source": [
        "test_loss, test_acc = model.evaluate(test_x, test_y)\n",
        "print(\"Testing loss:\", test_loss)\n",
        "print(\"Testing accuracy:\", test_acc)"
      ]
    },
    {
      "cell_type": "code",
      "execution_count": 7,
      "metadata": {},
      "outputs": [
        {
          "name": "stdout",
          "output_type": "stream",
          "text": [
            "119/442 [=======>......................] - ETA: 0s"
          ]
        },
        {
          "name": "stderr",
          "output_type": "stream",
          "text": [
            "2024-04-25 17:04:39.575029: I tensorflow/core/grappler/optimizers/custom_graph_optimizer_registry.cc:114] Plugin optimizer for device_type GPU is enabled.\n"
          ]
        },
        {
          "name": "stdout",
          "output_type": "stream",
          "text": [
            "442/442 [==============================] - 1s 1ms/step\n"
          ]
        }
      ],
      "source": [
        "y_pred = (model.predict(test_x) > 0.5).astype(int)"
      ]
    },
    {
      "cell_type": "code",
      "execution_count": 8,
      "metadata": {},
      "outputs": [
        {
          "name": "stdout",
          "output_type": "stream",
          "text": [
            "Confusion Matrix:\n"
          ]
        },
        {
          "data": {
            "image/png": "[encoded data removed]",
            "text/plain": [
              "<Figure size 640x480 with 2 Axes>"
            ]
          },
          "metadata": {},
          "output_type": "display_data"
        }
      ],
      "source": [
        "cm = confusion_matrix(test_y, y_pred)\n",
        "print(\"Confusion Matrix:\")\n",
        "disp = ConfusionMatrixDisplay(cm)\n",
        "disp.plot()\n",
        "plt.show()"
      ]
    },
    {
      "cell_type": "code",
      "execution_count": 9,
      "metadata": {},
      "outputs": [
        {
          "name": "stdout",
          "output_type": "stream",
          "text": [
            "Classification Report:\n",
            "              precision    recall  f1-score   support\n",
            "\n",
            "           0       0.72      0.80      0.76      7069\n",
            "           1       0.77      0.69      0.73      7070\n",
            "\n",
            "    accuracy                           0.74     14139\n",
            "   macro avg       0.74      0.74      0.74     14139\n",
            "weighted avg       0.74      0.74      0.74     14139\n",
            "\n"
          ]
        }
      ],
      "source": [
        "print(\"Classification Report:\")\n",
        "print(classification_report(test_y, y_pred))"
      ]
    }
  ],
  "metadata": {
    "colab": {
      "provenance": []
    },
    "kernelspec": {
      "display_name": "Python 3",
      "name": "python3"
    },
    "language_info": {
      "codemirror_mode": {
        "name": "ipython",
        "version": 3
      },
      "file_extension": ".py",
      "mimetype": "text/x-python",
      "name": "python",
      "nbconvert_exporter": "python",
      "pygments_lexer": "ipython3",
      "version": "3.11.5"
    }
  },
  "nbformat": 4,
  "nbformat_minor": 0
}
