{
  "cells": [
    {
      "cell_type": "markdown",
      "metadata": {
        "id": "ZBuVdxb5yBei"
      },
      "source": [
        "# Initial Set Up"
      ]
    },
    {
      "cell_type": "markdown",
      "metadata": {
        "id": "qqpHq_twzvWu"
      },
      "source": [
        "## Importing libraries"
      ]
    },
    {
      "cell_type": "code",
      "execution_count": 1,
      "metadata": {
        "id": "m0AZ3bMtxtD7"
      },
      "outputs": [
        {
          "name": "stderr",
          "output_type": "stream",
          "text": [
            "2024-04-27 12:12:20.494203: I tensorflow/core/platform/cpu_feature_guard.cc:182] This TensorFlow binary is optimized to use available CPU instructions in performance-critical operations.\n",
            "To enable the following instructions: SSE4.1 SSE4.2 AVX AVX2 FMA, in other operations, rebuild TensorFlow with the appropriate compiler flags.\n"
          ]
        }
      ],
      "source": [
        "import matplotlib.pyplot as plt\n",
        "\n",
        "from keras import Sequential\n",
        "from keras.layers import Dense, Dropout\n",
        "from keras.optimizers import Adam, SGD, Adadelta\n",
        " \n",
        "from sklearn.metrics import accuracy_score, precision_score, recall_score, f1_score, roc_auc_score\n",
        "from sklearn.metrics import confusion_matrix, ConfusionMatrixDisplay\n",
        "\n",
        "from modules.helpers import load_data\n",
        "\n",
        "import mlflow\n",
        "mlflow.set_tracking_uri(\"http://127.0.0.1:5000\")\n",
        "mlflow_experiment_id = 173184969061571471\n",
        "mlflow.autolog(disable=True)"
      ]
    },
    {
      "cell_type": "code",
      "execution_count": 2,
      "metadata": {},
      "outputs": [],
      "source": [
        "(train_x, train_y), (val_x, val_y), (test_x, test_y) = load_data('dnn')"
      ]
    },
    {
      "cell_type": "markdown",
      "metadata": {},
      "source": [
        "# Hyper Parameter Tuning"
      ]
    },
    {
      "cell_type": "code",
      "execution_count": 3,
      "metadata": {},
      "outputs": [],
      "source": [
        "run = False"
      ]
    },
    {
      "cell_type": "code",
      "execution_count": 5,
      "metadata": {},
      "outputs": [],
      "source": [
        "def create_model(activation='relu',\n",
        "                 dropout_rate=0.2, \n",
        "                 optimizer=Adam,\n",
        "                 learning_rate=0.01):\n",
        "    model = Sequential([\n",
        "        Dense(64, activation=activation, input_shape=(51,)),\n",
        "        Dropout(dropout_rate),  \n",
        "        Dense(64, activation=activation),  \n",
        "        Dropout(dropout_rate),  \n",
        "        Dense(32, activation=activation),  \n",
        "        Dropout(dropout_rate),\n",
        "        Dense(1, activation='sigmoid') \n",
        "    ])\n",
        "    opt = optimizer(learning_rate=learning_rate)\n",
        "    \n",
        "    model.compile(\n",
        "        optimizer=opt,  \n",
        "        loss='binary_crossentropy',  \n",
        "        metrics=['accuracy']  \n",
        "    )\n",
        "    \n",
        "    return model"
      ]
    },
    {
      "cell_type": "code",
      "execution_count": 6,
      "metadata": {},
      "outputs": [],
      "source": [
        "param_grid = {\n",
        "    'activation': ['relu', 'softplus', 'sigmoid', 'tanh'],\n",
        "    'dropout_rate': [0.1, 0.2, 0.3],\n",
        "    'optimizer': [Adam, SGD, Adadelta],  \n",
        "    'learning_rate': [0.005, 0.01]  \n",
        "}\n",
        "\n",
        "param_configs = [\n",
        "    {\n",
        "        'activation': activation,\n",
        "        'dropout_rate': dropout_rate,\n",
        "        'optimizer': optimizer,\n",
        "        'learning_rate': learning_rate,\n",
        "    }\n",
        "    for activation in param_grid['activation']\n",
        "    for dropout_rate in param_grid['dropout_rate']\n",
        "    for optimizer in param_grid['optimizer']\n",
        "    for learning_rate in param_grid['learning_rate']\n",
        "]"
      ]
    },
    {
      "cell_type": "code",
      "execution_count": 7,
      "metadata": {},
      "outputs": [
        {
          "name": "stdout",
          "output_type": "stream",
          "text": [
            "No new runs added\n"
          ]
        }
      ],
      "source": [
        "if run == True:\n",
        "    for i in range(len(param_configs)):   \n",
        "        param_config = param_configs[i]\n",
        "        with mlflow.start_run(experiment_id=mlflow_experiment_id):\n",
        "            for param, value in param_config.items():\n",
        "                mlflow.log_param(param, value)\n",
        "            \n",
        "            model = create_model(**param_config)\n",
        "\n",
        "            history = model.fit(train_x,\n",
        "                    train_y,\n",
        "                    epochs=15,\n",
        "                    batch_size=50,\n",
        "                    validation_data=(val_x, val_y))\n",
        "            \n",
        "            mlflow.log_metric(\"Accuracy\", history.history['val_accuracy'][-1])\n",
        "            mlflow.log_metric(\"Loss\", history.history['val_loss'][-1])\n",
        "            \n",
        "            # Log Model\n",
        "            mlflow.sklearn.log_model(\n",
        "                sk_model=model,\n",
        "                artifact_path=f'dnn-{i}',\n",
        "                registered_model_name=f'dnn-{i}'\n",
        "                )\n",
        "            \n",
        "            del model, history\n",
        "else:\n",
        "    print(\"No new runs added\")"
      ]
    },
    {
      "cell_type": "markdown",
      "metadata": {},
      "source": [
        "# Final Model"
      ]
    },
    {
      "cell_type": "code",
      "execution_count": 8,
      "metadata": {},
      "outputs": [
        {
          "name": "stdout",
          "output_type": "stream",
          "text": [
            "Epoch 1/15\n"
          ]
        },
        {
          "name": "stderr",
          "output_type": "stream",
          "text": [
            "2024-04-27 12:12:23.190340: I tensorflow/core/common_runtime/process_util.cc:146] Creating new thread pool with default inter op setting: 4. Tune using inter_op_parallelism_threads for best performance.\n"
          ]
        },
        {
          "name": "stdout",
          "output_type": "stream",
          "text": [
            "905/905 [==============================] - 5s 5ms/step - loss: 0.5532 - accuracy: 0.7194 - val_loss: 0.5186 - val_accuracy: 0.7473\n",
            "Epoch 2/15\n",
            "905/905 [==============================] - 5s 5ms/step - loss: 0.5285 - accuracy: 0.7398 - val_loss: 0.5189 - val_accuracy: 0.7454\n",
            "Epoch 3/15\n",
            "905/905 [==============================] - 6s 6ms/step - loss: 0.5252 - accuracy: 0.7416 - val_loss: 0.5144 - val_accuracy: 0.7477\n",
            "Epoch 4/15\n",
            "905/905 [==============================] - 4s 5ms/step - loss: 0.5242 - accuracy: 0.7425 - val_loss: 0.5137 - val_accuracy: 0.7495\n",
            "Epoch 5/15\n",
            "905/905 [==============================] - 5s 6ms/step - loss: 0.5228 - accuracy: 0.7429 - val_loss: 0.5132 - val_accuracy: 0.7496\n",
            "Epoch 6/15\n",
            "905/905 [==============================] - 5s 5ms/step - loss: 0.5211 - accuracy: 0.7436 - val_loss: 0.5127 - val_accuracy: 0.7506\n",
            "Epoch 7/15\n",
            "905/905 [==============================] - 5s 5ms/step - loss: 0.5213 - accuracy: 0.7424 - val_loss: 0.5145 - val_accuracy: 0.7488\n",
            "Epoch 8/15\n",
            "905/905 [==============================] - 5s 5ms/step - loss: 0.5194 - accuracy: 0.7457 - val_loss: 0.5136 - val_accuracy: 0.7447\n",
            "Epoch 9/15\n",
            "905/905 [==============================] - 4s 5ms/step - loss: 0.5189 - accuracy: 0.7434 - val_loss: 0.5127 - val_accuracy: 0.7511\n",
            "Epoch 10/15\n",
            "905/905 [==============================] - 4s 5ms/step - loss: 0.5185 - accuracy: 0.7460 - val_loss: 0.5129 - val_accuracy: 0.7524\n",
            "Epoch 11/15\n",
            "905/905 [==============================] - 5s 5ms/step - loss: 0.5185 - accuracy: 0.7441 - val_loss: 0.5142 - val_accuracy: 0.7480\n",
            "Epoch 12/15\n",
            "905/905 [==============================] - 4s 4ms/step - loss: 0.5171 - accuracy: 0.7451 - val_loss: 0.5105 - val_accuracy: 0.7500\n",
            "Epoch 13/15\n",
            "905/905 [==============================] - 4s 5ms/step - loss: 0.5168 - accuracy: 0.7456 - val_loss: 0.5124 - val_accuracy: 0.7501\n",
            "Epoch 14/15\n",
            "905/905 [==============================] - 5s 5ms/step - loss: 0.5159 - accuracy: 0.7452 - val_loss: 0.5189 - val_accuracy: 0.7466\n",
            "Epoch 15/15\n",
            "905/905 [==============================] - 4s 5ms/step - loss: 0.5153 - accuracy: 0.7462 - val_loss: 0.5160 - val_accuracy: 0.7482\n"
          ]
        },
        {
          "data": {
            "text/plain": [
              "<keras.callbacks.History at 0x7f91c8d1ded0>"
            ]
          },
          "execution_count": 8,
          "metadata": {},
          "output_type": "execute_result"
        }
      ],
      "source": [
        "model = create_model(activation='sigmoid',\n",
        "                     dropout_rate=0.3,\n",
        "                     optimizer=Adam,\n",
        "                     learning_rate=0.005)\n",
        "\n",
        "model.fit(train_x,\n",
        "          train_y,\n",
        "          epochs=15,\n",
        "          batch_size=50,\n",
        "          validation_data=(val_x, val_y))"
      ]
    },
    {
      "cell_type": "code",
      "execution_count": 9,
      "metadata": {},
      "outputs": [
        {
          "name": "stdout",
          "output_type": "stream",
          "text": [
            "354/354 [==============================] - 0s 1ms/step\n",
            "354/354 [==============================] - 0s 993us/step\n",
            "354/354 [==============================] - 0s 1ms/step\n",
            "354/354 [==============================] - 0s 685us/step\n",
            "354/354 [==============================] - 0s 1ms/step\n",
            "354/354 [==============================] - 0s 1ms/step\n",
            "354/354 [==============================] - 0s 767us/step\n",
            "354/354 [==============================] - 0s 921us/step\n",
            "354/354 [==============================] - 0s 855us/step\n",
            "354/354 [==============================] - 0s 889us/step\n",
            "354/354 [==============================] - 0s 827us/step\n",
            "354/354 [==============================] - 0s 1ms/step\n",
            "354/354 [==============================] - 0s 1ms/step\n",
            "354/354 [==============================] - 0s 1ms/step\n",
            "354/354 [==============================] - 0s 866us/step\n",
            "354/354 [==============================] - 0s 1ms/step\n",
            "354/354 [==============================] - 0s 1ms/step\n"
          ]
        },
        {
          "data": {
            "image/png": "[encoded data removed]",
            "text/plain": [
              "<Figure size 640x480 with 1 Axes>"
            ]
          },
          "metadata": {},
          "output_type": "display_data"
        },
        {
          "name": "stdout",
          "output_type": "stream",
          "text": [
            "- Threshold: 0.35 | Accuracy: 0.708 | Precision: 0.642 | Recall: 0.942\n",
            "- Threshold: 0.40 | Accuracy: 0.723 | Precision: 0.659 | Recall: 0.922\n",
            "- Threshold: 0.45 | Accuracy: 0.737 | Precision: 0.680 | Recall: 0.895\n",
            "- Threshold: 0.50 | Accuracy: 0.748 | Precision: 0.710 | Recall: 0.839\n",
            "- Threshold: 0.55 | Accuracy: 0.750 | Precision: 0.741 | Recall: 0.768\n",
            "- Threshold: 0.60 | Accuracy: 0.741 | Precision: 0.760 | Recall: 0.705\n",
            "- Threshold: 0.65 | Accuracy: 0.732 | Precision: 0.775 | Recall: 0.654\n",
            "- Threshold: 0.70 | Accuracy: 0.716 | Precision: 0.791 | Recall: 0.586\n"
          ]
        }
      ],
      "source": [
        "# list of possible threshold values\n",
        "threshold_values = [i / 100 for i in range(10, 95, 5)]\n",
        "\n",
        "# list to hold precision, recall, accuracy scores for each possible threshold value\n",
        "prec_scores = []\n",
        "rec_scores = []\n",
        "acc_scores = []\n",
        "\n",
        "for threshold in threshold_values:\n",
        "    y_pred = (model.predict(val_x) > threshold).astype(int)\n",
        "    prec_scores.append(precision_score(val_y, y_pred))\n",
        "    rec_scores.append(recall_score(val_y, y_pred))\n",
        "    acc_scores.append(accuracy_score(val_y, y_pred))\n",
        "    \n",
        "plt.plot(threshold_values, prec_scores, label='Precision')\n",
        "plt.plot(threshold_values, rec_scores, label='Recall')\n",
        "plt.plot(threshold_values, acc_scores, label='Accuracy')\n",
        "plt.title('Choosing the Optimal Threshold')\n",
        "plt.xlabel('Threshold')\n",
        "plt.ylabel('Score')\n",
        "plt.legend()\n",
        "plt.show()\n",
        "\n",
        "for i in range(len(threshold_values)):\n",
        "     if acc_scores[i] > 0.7:\n",
        "         print(f'- Threshold: {threshold_values[i]:.2f} | Accuracy: {acc_scores[i]:.3f} | Precision: {prec_scores[i]:.3f} | Recall: {rec_scores[i]:.3f}')\n",
        "\n",
        "optimal_threshold = 0.45"
      ]
    },
    {
      "cell_type": "markdown",
      "metadata": {},
      "source": [
        "## Model Evaluation"
      ]
    },
    {
      "cell_type": "code",
      "execution_count": 10,
      "metadata": {},
      "outputs": [
        {
          "name": "stdout",
          "output_type": "stream",
          "text": [
            "442/442 [==============================] - 0s 872us/step\n"
          ]
        }
      ],
      "source": [
        "predictions = (model.predict(test_x) > optimal_threshold).astype(int)"
      ]
    },
    {
      "cell_type": "code",
      "execution_count": 11,
      "metadata": {},
      "outputs": [
        {
          "name": "stdout",
          "output_type": "stream",
          "text": [
            "Accuracy:  0.7369\n",
            "Precision: 0.6791\n",
            "Recall:    0.8983\n",
            "F1 Score:  0.7735\n",
            "AUC ROC:   0.7369\n"
          ]
        }
      ],
      "source": [
        "print(f'Accuracy:  {accuracy_score(test_y, predictions):.4f}')\n",
        "print(f'Precision: {precision_score(test_y, predictions):.4f}')\n",
        "print(f'Recall:    {recall_score(test_y, predictions):.4f}')\n",
        "print(f'F1 Score:  {f1_score(test_y, predictions):.4f}')\n",
        "print(f'AUC ROC:   {roc_auc_score(test_y, predictions):.4f}')"
      ]
    },
    {
      "cell_type": "code",
      "execution_count": 12,
      "metadata": {},
      "outputs": [],
      "source": [
        "disp = ConfusionMatrixDisplay(\n",
        "    confusion_matrix=confusion_matrix(test_y, predictions)\n",
        "    )\n",
        "disp.plot()\n",
        "plt.title('M3 - Deep Neural Network')\n",
        "plt.tight_layout()\n",
        "plt.savefig('Output/CM - M3.png', bbox_inches='tight')\n",
        "plt.close()"
      ]
    }
  ],
  "metadata": {
    "colab": {
      "provenance": []
    },
    "kernelspec": {
      "display_name": "Python 3",
      "name": "python3"
    },
    "language_info": {
      "codemirror_mode": {
        "name": "ipython",
        "version": 3
      },
      "file_extension": ".py",
      "mimetype": "text/x-python",
      "name": "python",
      "nbconvert_exporter": "python",
      "pygments_lexer": "ipython3",
      "version": "3.11.5"
    }
  },
  "nbformat": 4,
  "nbformat_minor": 0
}
