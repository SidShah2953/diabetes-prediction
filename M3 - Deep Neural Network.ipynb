{
  "cells": [
    {
      "cell_type": "markdown",
      "metadata": {
        "id": "ZBuVdxb5yBei"
      },
      "source": [
        "## DNN"
      ]
    },
    {
      "cell_type": "markdown",
      "metadata": {
        "id": "qqpHq_twzvWu"
      },
      "source": [
        "### libraries"
      ]
    },
    {
      "cell_type": "code",
      "execution_count": 1,
      "metadata": {
        "id": "m0AZ3bMtxtD7"
      },
      "outputs": [],
      "source": [
        "import numpy as np\n",
        "import pandas as pd\n",
        "import matplotlib.pyplot as plt\n",
        "\n",
        "from keras import Sequential\n",
        "from keras.layers import Dense, Dropout\n",
        "\n",
        "from sklearn.model_selection import StratifiedShuffleSplit\n",
        "from sklearn.preprocessing import StandardScaler\n",
        "from sklearn.metrics import confusion_matrix, classification_report, ConfusionMatrixDisplay"
      ]
    },
    {
      "cell_type": "markdown",
      "metadata": {
        "id": "2X2h0o-RzyDg"
      },
      "source": [
        "### preprocessing.ipynb"
      ]
    },
    {
      "cell_type": "code",
      "execution_count": 2,
      "metadata": {
        "id": "8zAq-yfuz1zF"
      },
      "outputs": [
        {
          "data": {
            "text/html": [
              "<div>\n",
              "<style scoped>\n",
              "    .dataframe tbody tr th:only-of-type {\n",
              "        vertical-align: middle;\n",
              "    }\n",
              "\n",
              "    .dataframe tbody tr th {\n",
              "        vertical-align: top;\n",
              "    }\n",
              "\n",
              "    .dataframe thead th {\n",
              "        text-align: right;\n",
              "    }\n",
              "</style>\n",
              "<table border=\"1\" class=\"dataframe\">\n",
              "  <thead>\n",
              "    <tr style=\"text-align: right;\">\n",
              "      <th></th>\n",
              "      <th>Diabetes_binary</th>\n",
              "      <th>HighBP</th>\n",
              "      <th>HighChol</th>\n",
              "      <th>CholCheck</th>\n",
              "      <th>BMI</th>\n",
              "      <th>Smoker</th>\n",
              "      <th>Stroke</th>\n",
              "      <th>HeartDiseaseorAttack</th>\n",
              "      <th>PhysActivity</th>\n",
              "      <th>Fruits</th>\n",
              "      <th>...</th>\n",
              "      <th>AnyHealthcare</th>\n",
              "      <th>NoDocbcCost</th>\n",
              "      <th>GenHlth</th>\n",
              "      <th>MentHlth</th>\n",
              "      <th>PhysHlth</th>\n",
              "      <th>DiffWalk</th>\n",
              "      <th>Sex</th>\n",
              "      <th>Age</th>\n",
              "      <th>Education</th>\n",
              "      <th>Income</th>\n",
              "    </tr>\n",
              "  </thead>\n",
              "  <tbody>\n",
              "    <tr>\n",
              "      <th>0</th>\n",
              "      <td>0</td>\n",
              "      <td>1</td>\n",
              "      <td>0</td>\n",
              "      <td>1</td>\n",
              "      <td>26</td>\n",
              "      <td>0</td>\n",
              "      <td>0</td>\n",
              "      <td>0</td>\n",
              "      <td>1</td>\n",
              "      <td>0</td>\n",
              "      <td>...</td>\n",
              "      <td>1</td>\n",
              "      <td>0</td>\n",
              "      <td>3</td>\n",
              "      <td>5</td>\n",
              "      <td>30</td>\n",
              "      <td>0</td>\n",
              "      <td>1</td>\n",
              "      <td>4</td>\n",
              "      <td>6</td>\n",
              "      <td>8</td>\n",
              "    </tr>\n",
              "    <tr>\n",
              "      <th>1</th>\n",
              "      <td>0</td>\n",
              "      <td>1</td>\n",
              "      <td>1</td>\n",
              "      <td>1</td>\n",
              "      <td>26</td>\n",
              "      <td>1</td>\n",
              "      <td>1</td>\n",
              "      <td>0</td>\n",
              "      <td>0</td>\n",
              "      <td>1</td>\n",
              "      <td>...</td>\n",
              "      <td>1</td>\n",
              "      <td>0</td>\n",
              "      <td>3</td>\n",
              "      <td>0</td>\n",
              "      <td>0</td>\n",
              "      <td>0</td>\n",
              "      <td>1</td>\n",
              "      <td>12</td>\n",
              "      <td>6</td>\n",
              "      <td>8</td>\n",
              "    </tr>\n",
              "    <tr>\n",
              "      <th>2</th>\n",
              "      <td>0</td>\n",
              "      <td>0</td>\n",
              "      <td>0</td>\n",
              "      <td>1</td>\n",
              "      <td>26</td>\n",
              "      <td>0</td>\n",
              "      <td>0</td>\n",
              "      <td>0</td>\n",
              "      <td>1</td>\n",
              "      <td>1</td>\n",
              "      <td>...</td>\n",
              "      <td>1</td>\n",
              "      <td>0</td>\n",
              "      <td>1</td>\n",
              "      <td>0</td>\n",
              "      <td>10</td>\n",
              "      <td>0</td>\n",
              "      <td>1</td>\n",
              "      <td>13</td>\n",
              "      <td>6</td>\n",
              "      <td>8</td>\n",
              "    </tr>\n",
              "    <tr>\n",
              "      <th>3</th>\n",
              "      <td>0</td>\n",
              "      <td>1</td>\n",
              "      <td>1</td>\n",
              "      <td>1</td>\n",
              "      <td>28</td>\n",
              "      <td>1</td>\n",
              "      <td>0</td>\n",
              "      <td>0</td>\n",
              "      <td>1</td>\n",
              "      <td>1</td>\n",
              "      <td>...</td>\n",
              "      <td>1</td>\n",
              "      <td>0</td>\n",
              "      <td>3</td>\n",
              "      <td>0</td>\n",
              "      <td>3</td>\n",
              "      <td>0</td>\n",
              "      <td>1</td>\n",
              "      <td>11</td>\n",
              "      <td>6</td>\n",
              "      <td>8</td>\n",
              "    </tr>\n",
              "    <tr>\n",
              "      <th>4</th>\n",
              "      <td>0</td>\n",
              "      <td>0</td>\n",
              "      <td>0</td>\n",
              "      <td>1</td>\n",
              "      <td>29</td>\n",
              "      <td>1</td>\n",
              "      <td>0</td>\n",
              "      <td>0</td>\n",
              "      <td>1</td>\n",
              "      <td>1</td>\n",
              "      <td>...</td>\n",
              "      <td>1</td>\n",
              "      <td>0</td>\n",
              "      <td>2</td>\n",
              "      <td>0</td>\n",
              "      <td>0</td>\n",
              "      <td>0</td>\n",
              "      <td>0</td>\n",
              "      <td>8</td>\n",
              "      <td>5</td>\n",
              "      <td>8</td>\n",
              "    </tr>\n",
              "  </tbody>\n",
              "</table>\n",
              "<p>5 rows × 22 columns</p>\n",
              "</div>"
            ],
            "text/plain": [
              "  Diabetes_binary HighBP HighChol CholCheck BMI Smoker Stroke  \\\n",
              "0               0      1        0         1  26      0      0   \n",
              "1               0      1        1         1  26      1      1   \n",
              "2               0      0        0         1  26      0      0   \n",
              "3               0      1        1         1  28      1      0   \n",
              "4               0      0        0         1  29      1      0   \n",
              "\n",
              "  HeartDiseaseorAttack PhysActivity Fruits  ... AnyHealthcare NoDocbcCost  \\\n",
              "0                    0            1      0  ...             1           0   \n",
              "1                    0            0      1  ...             1           0   \n",
              "2                    0            1      1  ...             1           0   \n",
              "3                    0            1      1  ...             1           0   \n",
              "4                    0            1      1  ...             1           0   \n",
              "\n",
              "  GenHlth MentHlth PhysHlth DiffWalk Sex Age Education Income  \n",
              "0       3        5       30        0   1   4         6      8  \n",
              "1       3        0        0        0   1  12         6      8  \n",
              "2       1        0       10        0   1  13         6      8  \n",
              "3       3        0        3        0   1  11         6      8  \n",
              "4       2        0        0        0   0   8         5      8  \n",
              "\n",
              "[5 rows x 22 columns]"
            ]
          },
          "execution_count": 2,
          "metadata": {},
          "output_type": "execute_result"
        }
      ],
      "source": [
        "df = pd.read_csv('Data/Raw Data.csv', header=0).astype(int).astype(str)\n",
        "df.head()"
      ]
    },
    {
      "cell_type": "code",
      "execution_count": 3,
      "metadata": {},
      "outputs": [],
      "source": [
        "num_cols = [\n",
        "    'Diabetes_binary',\n",
        "    'BMI',\n",
        "    'GenHlth',\n",
        "    'MentHlth',\n",
        "    'PhysHlth', \n",
        "]\n",
        "for col in num_cols:\n",
        "    df[col] = df[col].astype(int)"
      ]
    },
    {
      "cell_type": "code",
      "execution_count": 4,
      "metadata": {},
      "outputs": [],
      "source": [
        "df['HighCholCheck'] = df['CholCheck'] + df['HighChol']"
      ]
    },
    {
      "cell_type": "code",
      "execution_count": 5,
      "metadata": {},
      "outputs": [],
      "source": [
        "rearranged = [\n",
        "    'Sex', 'Age',\n",
        "    'Fruits', 'Veggies','HvyAlcoholConsump',\n",
        "    'BMI', 'PhysActivity', 'DiffWalk', 'GenHlth', 'MentHlth', 'PhysHlth', \n",
        "    'HighCholCheck', 'HighBP', 'Smoker', 'Stroke', 'HeartDiseaseorAttack',\n",
        "    'AnyHealthcare', 'NoDocbcCost',\n",
        "    'Education', 'Income',\n",
        "    'Diabetes_binary'\n",
        "    ]\n",
        "\n",
        "strat_cols = [\n",
        "    'Sex', 'Age',\n",
        "    'Diabetes_binary'\n",
        "    ]"
      ]
    },
    {
      "cell_type": "code",
      "execution_count": 6,
      "metadata": {},
      "outputs": [],
      "source": [
        "split = StratifiedShuffleSplit(n_splits=1,\n",
        "                            test_size=0.2,\n",
        "                            random_state=42)\n",
        "\n",
        "for train_index, test_index in split.split(df, df[strat_cols]):\n",
        "    train_indices = list(train_index)\n",
        "    test_indices = list(test_index)\n",
        "    \n",
        "train_full = df.iloc[train_indices]\n",
        "test_set = df.iloc[test_indices]\n",
        "\n",
        "for train_index, val_index in split.split(train_full, train_full[strat_cols]):\n",
        "    train_indices = list(train_index)\n",
        "    val_indices = list(val_index)\n",
        "    \n",
        "train_set = train_full.iloc[train_indices]\n",
        "val_set = train_full.iloc[val_indices]"
      ]
    },
    {
      "cell_type": "code",
      "execution_count": 7,
      "metadata": {},
      "outputs": [
        {
          "name": "stdout",
          "output_type": "stream",
          "text": [
            "Training Set Saved: 23 Columns x 45242 Rows\n",
            "Testing Set Saved: 23 Columns x 14139 Rows\n",
            "Validation Set Saved: 23 Columns x 11311 Rows\n"
          ]
        }
      ],
      "source": [
        "train_set[rearranged].to_csv('Data/TTV Split/training.csv', index=False)\n",
        "print(f'Training Set Saved: {len(train_set.columns)} Columns x {len(train_set)} Rows')\n",
        "test_set[rearranged].to_csv('Data/TTV Split/testing.csv', index=False)\n",
        "print(f'Testing Set Saved: {len(test_set.columns)} Columns x {len(test_set)} Rows')\n",
        "val_set[rearranged].to_csv('Data/TTV Split/validation.csv', index=False)\n",
        "print(f'Validation Set Saved: {len(val_set.columns)} Columns x {len(val_set)} Rows')"
      ]
    },
    {
      "cell_type": "markdown",
      "metadata": {},
      "source": [
        "### preprocessing and splitting data"
      ]
    },
    {
      "cell_type": "code",
      "execution_count": 8,
      "metadata": {},
      "outputs": [],
      "source": [
        "bool_cols = [\n",
        "    'Sex', \n",
        "    'Fruits', 'Veggies', 'HvyAlcoholConsump', \n",
        "    'PhysActivity', 'DiffWalk',\n",
        "    'HighBP', 'Smoker', 'Stroke', 'HeartDiseaseorAttack',\n",
        "    'AnyHealthcare', 'NoDocbcCost',\n",
        "    ]\n",
        "\n",
        "categorical_cols = [\n",
        "    'Age', \n",
        "    'GenHlth',\n",
        "    'HighCholCheck',\n",
        "    'Education', 'Income'\n",
        "    ]\n",
        "\n",
        "numerical_cols = [\n",
        "    'BMI', 'MentHlth', 'PhysHlth',\n",
        "    ]\n",
        "\n",
        "goal_variable = 'Diabetes_binary'\n"
      ]
    },
    {
      "cell_type": "code",
      "execution_count": 9,
      "metadata": {},
      "outputs": [],
      "source": [
        "def load_dnn_data():\n",
        "    train = pd.read_csv(\"Data/TTV Split/training.csv\", header=0)\n",
        "    train_y = train[[goal_variable]]\n",
        "    train_x = train.drop(goal_variable, axis=1)\n",
        "    test = pd.read_csv(\"Data/TTV Split/testing.csv\", header=0)\n",
        "    test_y = test[[goal_variable]]\n",
        "    test_x = test.drop(goal_variable, axis=1)\n",
        "    val = pd.read_csv(\"Data/TTV Split/validation.csv\", header=0)\n",
        "    val_y = val[[goal_variable]]\n",
        "    val_x = val.drop(goal_variable, axis=1)\n",
        "\n",
        "    scaler = StandardScaler()\n",
        "    \n",
        "    train_x[numerical_cols] = scaler.fit_transform(train_x[numerical_cols])\n",
        "    train_x = pd.get_dummies(train_x, columns=categorical_cols, drop_first=False)\n",
        "    train_x = pd.get_dummies(train_x, columns=bool_cols, drop_first=True)\n",
        "    train_x = train_x.astype(int)\n",
        "    \n",
        "    val_x[numerical_cols] = scaler.transform(val_x[numerical_cols])\n",
        "    val_x = pd.get_dummies(val_x, columns=categorical_cols, drop_first=False)\n",
        "    val_x = pd.get_dummies(val_x, columns=bool_cols, drop_first=True)\n",
        "    val_x = val_x.astype(int)\n",
        "\n",
        "    test_x[numerical_cols] = scaler.transform(test_x[numerical_cols])   \n",
        "    test_x = pd.get_dummies(test_x, columns=categorical_cols, drop_first=False)\n",
        "    test_x = pd.get_dummies(test_x, columns=bool_cols, drop_first=True)\n",
        "    test_x = test_x.astype(int)\n",
        "    \n",
        "    return (train_x, np.array(train_y[goal_variable].values)), \\\n",
        "            (val_x, np.array(val_y[goal_variable].values)), \\\n",
        "            (test_x, np.array(test_y[goal_variable].values))"
      ]
    },
    {
      "cell_type": "code",
      "execution_count": 10,
      "metadata": {},
      "outputs": [],
      "source": [
        "(train_x, train_y), (val_x, val_y), (test_x, test_y) = load_dnn_data()"
      ]
    },
    {
      "cell_type": "markdown",
      "metadata": {},
      "source": [
        "### model building"
      ]
    },
    {
      "cell_type": "code",
      "execution_count": 11,
      "metadata": {},
      "outputs": [
        {
          "name": "stderr",
          "output_type": "stream",
          "text": [
            "2024-04-25 15:03:13.617708: I metal_plugin/src/device/metal_device.cc:1154] Metal device set to: Apple M1\n",
            "2024-04-25 15:03:13.617750: I metal_plugin/src/device/metal_device.cc:296] systemMemory: 8.00 GB\n",
            "2024-04-25 15:03:13.617761: I metal_plugin/src/device/metal_device.cc:313] maxCacheSize: 2.67 GB\n",
            "2024-04-25 15:03:13.619173: I tensorflow/core/common_runtime/pluggable_device/pluggable_device_factory.cc:306] Could not identify NUMA node of platform GPU ID 0, defaulting to 0. Your kernel may not have been built with NUMA support.\n",
            "2024-04-25 15:03:13.619510: I tensorflow/core/common_runtime/pluggable_device/pluggable_device_factory.cc:272] Created TensorFlow device (/job:localhost/replica:0/task:0/device:GPU:0 with 0 MB memory) -> physical PluggableDevice (device: 0, name: METAL, pci bus id: <undefined>)\n"
          ]
        }
      ],
      "source": [
        "model = Sequential([\n",
        "    Dense(64, activation='relu', input_shape=(train_x.shape[1],)),\n",
        "    Dropout(0.2),  \n",
        "    Dense(64, activation='relu'),  \n",
        "    Dropout(0.2),  \n",
        "    Dense(32, activation='relu'),  \n",
        "    Dropout(0.2),\n",
        "    Dense(1, activation='sigmoid') \n",
        "])"
      ]
    },
    {
      "cell_type": "code",
      "execution_count": 12,
      "metadata": {},
      "outputs": [],
      "source": [
        "model.compile(optimizer='adam', loss='binary_crossentropy', metrics=['accuracy'])"
      ]
    },
    {
      "cell_type": "code",
      "execution_count": 13,
      "metadata": {},
      "outputs": [
        {
          "name": "stdout",
          "output_type": "stream",
          "text": [
            "Epoch 1/20\n"
          ]
        },
        {
          "name": "stderr",
          "output_type": "stream",
          "text": [
            "2024-04-25 15:03:14.351871: W tensorflow/tsl/platform/profile_utils/cpu_utils.cc:128] Failed to get CPU frequency: 0 Hz\n",
            "2024-04-25 15:03:14.589524: I tensorflow/core/grappler/optimizers/custom_graph_optimizer_registry.cc:114] Plugin optimizer for device_type GPU is enabled.\n"
          ]
        },
        {
          "name": "stdout",
          "output_type": "stream",
          "text": [
            "1414/1414 [==============================] - ETA: 0s - loss: 0.5603 - accuracy: 0.7203"
          ]
        },
        {
          "name": "stderr",
          "output_type": "stream",
          "text": [
            "2024-04-25 15:03:25.758049: I tensorflow/core/grappler/optimizers/custom_graph_optimizer_registry.cc:114] Plugin optimizer for device_type GPU is enabled.\n"
          ]
        },
        {
          "name": "stdout",
          "output_type": "stream",
          "text": [
            "1414/1414 [==============================] - 13s 8ms/step - loss: 0.5603 - accuracy: 0.7203 - val_loss: 0.5283 - val_accuracy: 0.7372\n",
            "Epoch 2/20\n",
            "1414/1414 [==============================] - 10s 7ms/step - loss: 0.5548 - accuracy: 0.7250 - val_loss: 0.5584 - val_accuracy: 0.7290\n",
            "Epoch 3/20\n",
            "1414/1414 [==============================] - 9s 6ms/step - loss: 0.5552 - accuracy: 0.7275 - val_loss: 0.5276 - val_accuracy: 0.7372\n",
            "Epoch 4/20\n",
            "1414/1414 [==============================] - 9s 7ms/step - loss: 0.5719 - accuracy: 0.7217 - val_loss: 0.6984 - val_accuracy: 0.5281\n",
            "Epoch 5/20\n",
            "1414/1414 [==============================] - 9s 7ms/step - loss: 0.5880 - accuracy: 0.7159 - val_loss: 0.5305 - val_accuracy: 0.7338\n",
            "Epoch 6/20\n",
            "1414/1414 [==============================] - 9s 6ms/step - loss: 0.6106 - accuracy: 0.7118 - val_loss: 0.5248 - val_accuracy: 0.7452\n",
            "Epoch 7/20\n",
            "1414/1414 [==============================] - 9s 6ms/step - loss: 0.6502 - accuracy: 0.7023 - val_loss: 0.7565 - val_accuracy: 0.7289\n",
            "Epoch 8/20\n",
            "1414/1414 [==============================] - 9s 6ms/step - loss: 0.6910 - accuracy: 0.6983 - val_loss: 0.5790 - val_accuracy: 0.6913\n",
            "Epoch 9/20\n",
            "1414/1414 [==============================] - 9s 6ms/step - loss: 0.7287 - accuracy: 0.6891 - val_loss: 0.5325 - val_accuracy: 0.7453\n",
            "Epoch 10/20\n",
            "1414/1414 [==============================] - 9s 6ms/step - loss: 0.7521 - accuracy: 0.6887 - val_loss: 0.6808 - val_accuracy: 0.6400\n",
            "Epoch 11/20\n",
            "1414/1414 [==============================] - 9s 6ms/step - loss: 0.7626 - accuracy: 0.6851 - val_loss: 0.5888 - val_accuracy: 0.7433\n",
            "Epoch 12/20\n",
            "1414/1414 [==============================] - 9s 6ms/step - loss: 0.8464 - accuracy: 0.6775 - val_loss: 0.6652 - val_accuracy: 0.7375\n",
            "Epoch 13/20\n",
            "1414/1414 [==============================] - 9s 6ms/step - loss: 0.9108 - accuracy: 0.6743 - val_loss: 1.4003 - val_accuracy: 0.5230\n",
            "Epoch 14/20\n",
            "1414/1414 [==============================] - 9s 6ms/step - loss: 0.8770 - accuracy: 0.6797 - val_loss: 0.7667 - val_accuracy: 0.7221\n",
            "Epoch 15/20\n",
            "1414/1414 [==============================] - 9s 7ms/step - loss: 0.9002 - accuracy: 0.6764 - val_loss: 0.9656 - val_accuracy: 0.7115\n",
            "Epoch 16/20\n",
            "1414/1414 [==============================] - 9s 6ms/step - loss: 0.9357 - accuracy: 0.6748 - val_loss: 0.6329 - val_accuracy: 0.6760\n",
            "Epoch 17/20\n",
            "1414/1414 [==============================] - 9s 6ms/step - loss: 1.0586 - accuracy: 0.6700 - val_loss: 0.7500 - val_accuracy: 0.7273\n",
            "Epoch 18/20\n",
            "1414/1414 [==============================] - 9s 6ms/step - loss: 0.9967 - accuracy: 0.6732 - val_loss: 2.5310 - val_accuracy: 0.5000\n",
            "Epoch 19/20\n",
            "1414/1414 [==============================] - 9s 6ms/step - loss: 1.0478 - accuracy: 0.6707 - val_loss: 0.6727 - val_accuracy: 0.6659\n",
            "Epoch 20/20\n",
            "1414/1414 [==============================] - 9s 6ms/step - loss: 0.9821 - accuracy: 0.6722 - val_loss: 2.7000 - val_accuracy: 0.6306\n"
          ]
        },
        {
          "data": {
            "text/plain": [
              "<keras.callbacks.History at 0x310e85190>"
            ]
          },
          "execution_count": 13,
          "metadata": {},
          "output_type": "execute_result"
        }
      ],
      "source": [
        "model.fit(train_x, train_y, epochs=20, validation_data=(val_x, val_y))"
      ]
    },
    {
      "cell_type": "code",
      "execution_count": 14,
      "metadata": {},
      "outputs": [
        {
          "name": "stdout",
          "output_type": "stream",
          "text": [
            "442/442 [==============================] - 1s 3ms/step - loss: 2.6750 - accuracy: 0.6370\n",
            "Testing loss: 2.6750378608703613\n",
            "Testing accuracy: 0.6369615793228149\n"
          ]
        }
      ],
      "source": [
        "test_loss, test_acc = model.evaluate(test_x, test_y)\n",
        "print(\"Testing loss:\", test_loss)\n",
        "print(\"Testing accuracy:\", test_acc)"
      ]
    },
    {
      "cell_type": "code",
      "execution_count": 15,
      "metadata": {},
      "outputs": [
        {
          "name": "stdout",
          "output_type": "stream",
          "text": [
            "125/442 [=======>......................] - ETA: 0s"
          ]
        },
        {
          "name": "stderr",
          "output_type": "stream",
          "text": [
            "2024-04-25 15:06:19.058593: I tensorflow/core/grappler/optimizers/custom_graph_optimizer_registry.cc:114] Plugin optimizer for device_type GPU is enabled.\n"
          ]
        },
        {
          "name": "stdout",
          "output_type": "stream",
          "text": [
            "442/442 [==============================] - 1s 1ms/step\n"
          ]
        }
      ],
      "source": [
        "y_pred = (model.predict(test_x) > 0.5).astype(int)"
      ]
    },
    {
      "cell_type": "code",
      "execution_count": 16,
      "metadata": {},
      "outputs": [
        {
          "name": "stdout",
          "output_type": "stream",
          "text": [
            "Confusion Matrix:\n"
          ]
        },
        {
          "data": {
            "image/png": "[encoded data removed]",
            "text/plain": [
              "<Figure size 640x480 with 2 Axes>"
            ]
          },
          "metadata": {},
          "output_type": "display_data"
        }
      ],
      "source": [
        "cm = confusion_matrix(test_y, y_pred)\n",
        "print(\"Confusion Matrix:\")\n",
        "disp = ConfusionMatrixDisplay(cm)\n",
        "disp.plot()\n",
        "plt.show()"
      ]
    },
    {
      "cell_type": "code",
      "execution_count": 17,
      "metadata": {},
      "outputs": [
        {
          "name": "stdout",
          "output_type": "stream",
          "text": [
            "Classification Report:\n",
            "              precision    recall  f1-score   support\n",
            "\n",
            "           0       0.84      0.34      0.48      7069\n",
            "           1       0.59      0.93      0.72      7070\n",
            "\n",
            "    accuracy                           0.64     14139\n",
            "   macro avg       0.71      0.64      0.60     14139\n",
            "weighted avg       0.71      0.64      0.60     14139\n",
            "\n"
          ]
        }
      ],
      "source": [
        "print(\"Classification Report:\")\n",
        "print(classification_report(test_y, y_pred))"
      ]
    }
  ],
  "metadata": {
    "colab": {
      "provenance": []
    },
    "kernelspec": {
      "display_name": "Python 3",
      "name": "python3"
    },
    "language_info": {
      "codemirror_mode": {
        "name": "ipython",
        "version": 3
      },
      "file_extension": ".py",
      "mimetype": "text/x-python",
      "name": "python",
      "nbconvert_exporter": "python",
      "pygments_lexer": "ipython3",
      "version": "3.11.5"
    }
  },
  "nbformat": 4,
  "nbformat_minor": 0
}
