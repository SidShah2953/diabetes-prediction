{
 "cells": [
  {
   "cell_type": "code",
   "execution_count": 1,
   "metadata": {},
   "outputs": [],
   "source": [
    "import pandas as pd\n",
    "from sklearn.model_selection import StratifiedShuffleSplit"
   ]
  },
  {
   "cell_type": "code",
   "execution_count": 2,
   "metadata": {},
   "outputs": [],
   "source": [
    "df = pd.read_csv('Data/Raw Data.csv', header=0).astype(int).astype(str)"
   ]
  },
  {
   "cell_type": "code",
   "execution_count": 3,
   "metadata": {},
   "outputs": [],
   "source": [
    "num_cols = [\n",
    "    'Diabetes_binary',\n",
    "    'BMI',\n",
    "    'GenHlth',\n",
    "    'MentHlth',\n",
    "    'PhysHlth', \n",
    "]\n",
    "for col in num_cols:\n",
    "    df[col] = df[col].astype(int)"
   ]
  },
  {
   "cell_type": "code",
   "execution_count": 4,
   "metadata": {},
   "outputs": [],
   "source": [
    "rearranged = [\n",
    "    'Sex', 'Age',\n",
    "    'Fruits', 'Veggies','HvyAlcoholConsump',\n",
    "    'BMI', 'PhysActivity', 'DiffWalk', 'GenHlth', 'MentHlth', 'PhysHlth', \n",
    "    'CholCheck', 'HighChol', 'HighBP', 'Smoker', 'Stroke', 'HeartDiseaseorAttack',\n",
    "    'AnyHealthcare', 'NoDocbcCost',\n",
    "    'Education', 'Income',\n",
    "    'Diabetes_binary'\n",
    "    ]\n",
    "\n",
    "strat_cols = [\n",
    "    'Sex', 'Age',\n",
    "    'Diabetes_binary'\n",
    "    ]"
   ]
  },
  {
   "cell_type": "code",
   "execution_count": 5,
   "metadata": {},
   "outputs": [],
   "source": [
    "split = StratifiedShuffleSplit(n_splits=1,\n",
    "                            test_size=0.2,\n",
    "                            random_state=42)\n",
    "\n",
    "for train_index, test_index in split.split(df, df[strat_cols]):\n",
    "    train_indices = list(train_index)\n",
    "    test_indices = list(test_index)\n",
    "    \n",
    "train_full = df.iloc[train_indices]\n",
    "test_set = df.iloc[test_indices]\n",
    "\n",
    "for train_index, val_index in split.split(train_full, train_full[strat_cols]):\n",
    "    train_indices = list(train_index)\n",
    "    val_indices = list(val_index)\n",
    "    \n",
    "train_set = train_full.iloc[train_indices]\n",
    "val_set = train_full.iloc[val_indices]"
   ]
  },
  {
   "cell_type": "code",
   "execution_count": 6,
   "metadata": {},
   "outputs": [
    {
     "name": "stdout",
     "output_type": "stream",
     "text": [
      "Training Set Saved: 22 Columns x 45242 Rows\n",
      "Testing Set Saved: 22 Columns x 14139 Rows\n",
      "Validation Set Saved: 22 Columns x 11311 Rows\n"
     ]
    }
   ],
   "source": [
    "train_set[rearranged].to_csv('Data/TTV Split/training.csv', index=False)\n",
    "print(f'Training Set Saved: {len(train_set.columns)} Columns x {len(train_set)} Rows')\n",
    "test_set[rearranged].to_csv('Data/TTV Split/testing.csv', index=False)\n",
    "print(f'Testing Set Saved: {len(test_set.columns)} Columns x {len(test_set)} Rows')\n",
    "val_set[rearranged].to_csv('Data/TTV Split/validation.csv', index=False)\n",
    "print(f'Validation Set Saved: {len(val_set.columns)} Columns x {len(val_set)} Rows')"
   ]
  },
  {
   "cell_type": "code",
   "execution_count": null,
   "metadata": {},
   "outputs": [],
   "source": []
  }
 ],
 "metadata": {
  "kernelspec": {
   "display_name": "aml",
   "language": "python",
   "name": "python3"
  },
  "language_info": {
   "codemirror_mode": {
    "name": "ipython",
    "version": 3
   },
   "file_extension": ".py",
   "mimetype": "text/x-python",
   "name": "python",
   "nbconvert_exporter": "python",
   "pygments_lexer": "ipython3",
   "version": "3.11.5"
  }
 },
 "nbformat": 4,
 "nbformat_minor": 2
}
